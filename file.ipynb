{
 "cells": [
  {
   "cell_type": "markdown",
   "metadata": {},
   "source": [
    "Importing necessary libraries"
   ]
  },
  {
   "cell_type": "code",
   "execution_count": 2,
   "metadata": {},
   "outputs": [],
   "source": [
    "import pandas as pd \n",
    "import numpy as np\n",
    "import matplotlib.pyplot as plt \n",
    "import warnings\n",
    "warnings.filterwarnings('ignore')"
   ]
  },
  {
   "cell_type": "code",
   "execution_count": 3,
   "metadata": {},
   "outputs": [
    {
     "data": {
      "text/html": [
       "<div>\n",
       "<style scoped>\n",
       "    .dataframe tbody tr th:only-of-type {\n",
       "        vertical-align: middle;\n",
       "    }\n",
       "\n",
       "    .dataframe tbody tr th {\n",
       "        vertical-align: top;\n",
       "    }\n",
       "\n",
       "    .dataframe thead th {\n",
       "        text-align: right;\n",
       "    }\n",
       "</style>\n",
       "<table border=\"1\" class=\"dataframe\">\n",
       "  <thead>\n",
       "    <tr style=\"text-align: right;\">\n",
       "      <th></th>\n",
       "      <th>Song-Name</th>\n",
       "      <th>Singer/Artists</th>\n",
       "      <th>Genre</th>\n",
       "      <th>Album/Movie</th>\n",
       "      <th>User-Rating</th>\n",
       "    </tr>\n",
       "  </thead>\n",
       "  <tbody>\n",
       "    <tr>\n",
       "      <th>0</th>\n",
       "      <td>Aankh Marey</td>\n",
       "      <td>Kumar Sanu, Mika Singh, Neha Kakkar</td>\n",
       "      <td>BollywoodDance</td>\n",
       "      <td>Simmba</td>\n",
       "      <td>8.8/10</td>\n",
       "    </tr>\n",
       "    <tr>\n",
       "      <th>1</th>\n",
       "      <td>Coca Cola</td>\n",
       "      <td>Neha Kakkar, Tony Kakkar</td>\n",
       "      <td>BollywoodDanceRomantic</td>\n",
       "      <td>Luka Chuppi</td>\n",
       "      <td>9.0/10</td>\n",
       "    </tr>\n",
       "    <tr>\n",
       "      <th>2</th>\n",
       "      <td>Apna Time Aayega</td>\n",
       "      <td>Ranveer Singh</td>\n",
       "      <td>BollywoodDance</td>\n",
       "      <td>Gully Boy</td>\n",
       "      <td>9.7/10</td>\n",
       "    </tr>\n",
       "  </tbody>\n",
       "</table>\n",
       "</div>"
      ],
      "text/plain": [
       "          Song-Name                       Singer/Artists  \\\n",
       "0       Aankh Marey  Kumar Sanu, Mika Singh, Neha Kakkar   \n",
       "1         Coca Cola             Neha Kakkar, Tony Kakkar   \n",
       "2  Apna Time Aayega                        Ranveer Singh   \n",
       "\n",
       "                    Genre  Album/Movie User-Rating  \n",
       "0          BollywoodDance       Simmba      8.8/10  \n",
       "1  BollywoodDanceRomantic  Luka Chuppi      9.0/10  \n",
       "2          BollywoodDance    Gully Boy      9.7/10  "
      ]
     },
     "execution_count": 3,
     "metadata": {},
     "output_type": "execute_result"
    }
   ],
   "source": [
    "data = pd.read_csv(\"ex.csv\")\n",
    "data.head(3)"
   ]
  },
  {
   "cell_type": "markdown",
   "metadata": {},
   "source": [
    "Data preprocessing"
   ]
  },
  {
   "cell_type": "code",
   "execution_count": 4,
   "metadata": {},
   "outputs": [],
   "source": [
    "data.dropna(inplace=True)"
   ]
  },
  {
   "cell_type": "code",
   "execution_count": 5,
   "metadata": {},
   "outputs": [
    {
     "data": {
      "text/plain": [
       "Song-Name         0\n",
       "Singer/Artists    0\n",
       "Genre             0\n",
       "Album/Movie       0\n",
       "User-Rating       0\n",
       "dtype: int64"
      ]
     },
     "execution_count": 5,
     "metadata": {},
     "output_type": "execute_result"
    }
   ],
   "source": [
    "data.isnull().sum()"
   ]
  },
  {
   "cell_type": "code",
   "execution_count": 6,
   "metadata": {},
   "outputs": [
    {
     "data": {
      "text/html": [
       "<div>\n",
       "<style scoped>\n",
       "    .dataframe tbody tr th:only-of-type {\n",
       "        vertical-align: middle;\n",
       "    }\n",
       "\n",
       "    .dataframe tbody tr th {\n",
       "        vertical-align: top;\n",
       "    }\n",
       "\n",
       "    .dataframe thead th {\n",
       "        text-align: right;\n",
       "    }\n",
       "</style>\n",
       "<table border=\"1\" class=\"dataframe\">\n",
       "  <thead>\n",
       "    <tr style=\"text-align: right;\">\n",
       "      <th></th>\n",
       "      <th>Song-Name</th>\n",
       "      <th>Singer/Artists</th>\n",
       "      <th>Genre</th>\n",
       "      <th>Album/Movie</th>\n",
       "      <th>User-Rating</th>\n",
       "    </tr>\n",
       "  </thead>\n",
       "  <tbody>\n",
       "    <tr>\n",
       "      <th>count</th>\n",
       "      <td>2407</td>\n",
       "      <td>2407</td>\n",
       "      <td>2407</td>\n",
       "      <td>2407</td>\n",
       "      <td>2407</td>\n",
       "    </tr>\n",
       "    <tr>\n",
       "      <th>unique</th>\n",
       "      <td>2327</td>\n",
       "      <td>1214</td>\n",
       "      <td>20</td>\n",
       "      <td>900</td>\n",
       "      <td>40</td>\n",
       "    </tr>\n",
       "    <tr>\n",
       "      <th>top</th>\n",
       "      <td>Tere Naina</td>\n",
       "      <td>Mohammed Rafi</td>\n",
       "      <td>BollywoodDance</td>\n",
       "      <td>Bajirao Mastani</td>\n",
       "      <td>9.4/10</td>\n",
       "    </tr>\n",
       "    <tr>\n",
       "      <th>freq</th>\n",
       "      <td>3</td>\n",
       "      <td>55</td>\n",
       "      <td>1220</td>\n",
       "      <td>10</td>\n",
       "      <td>278</td>\n",
       "    </tr>\n",
       "  </tbody>\n",
       "</table>\n",
       "</div>"
      ],
      "text/plain": [
       "         Song-Name Singer/Artists           Genre      Album/Movie User-Rating\n",
       "count         2407           2407            2407             2407        2407\n",
       "unique        2327           1214              20              900          40\n",
       "top     Tere Naina  Mohammed Rafi  BollywoodDance  Bajirao Mastani      9.4/10\n",
       "freq             3             55            1220               10         278"
      ]
     },
     "execution_count": 6,
     "metadata": {},
     "output_type": "execute_result"
    }
   ],
   "source": [
    "data.describe()"
   ]
  },
  {
   "cell_type": "code",
   "execution_count": 7,
   "metadata": {},
   "outputs": [
    {
     "data": {
      "text/plain": [
       "16"
      ]
     },
     "execution_count": 7,
     "metadata": {},
     "output_type": "execute_result"
    }
   ],
   "source": [
    "data.duplicated().sum()"
   ]
  },
  {
   "cell_type": "code",
   "execution_count": 8,
   "metadata": {},
   "outputs": [
    {
     "name": "stdout",
     "output_type": "stream",
     "text": [
      "Duplicates after removing:0\n"
     ]
    }
   ],
   "source": [
    "data.drop_duplicates(inplace=True)\n",
    "print(f\"Duplicates after removing:{data.duplicated().sum()}\")"
   ]
  },
  {
   "cell_type": "code",
   "execution_count": 9,
   "metadata": {},
   "outputs": [],
   "source": [
    "l = []\n",
    "for i in data['User-Rating']:\n",
    "    l.append(i[:3])\n",
    "\n",
    "data['User-Rating'] = l\n"
   ]
  },
  {
   "cell_type": "code",
   "execution_count": 10,
   "metadata": {},
   "outputs": [
    {
     "data": {
      "text/html": [
       "<div>\n",
       "<style scoped>\n",
       "    .dataframe tbody tr th:only-of-type {\n",
       "        vertical-align: middle;\n",
       "    }\n",
       "\n",
       "    .dataframe tbody tr th {\n",
       "        vertical-align: top;\n",
       "    }\n",
       "\n",
       "    .dataframe thead th {\n",
       "        text-align: right;\n",
       "    }\n",
       "</style>\n",
       "<table border=\"1\" class=\"dataframe\">\n",
       "  <thead>\n",
       "    <tr style=\"text-align: right;\">\n",
       "      <th></th>\n",
       "      <th>Song-Name</th>\n",
       "      <th>Singer/Artists</th>\n",
       "      <th>Genre</th>\n",
       "      <th>Album/Movie</th>\n",
       "      <th>User-Rating</th>\n",
       "    </tr>\n",
       "  </thead>\n",
       "  <tbody>\n",
       "    <tr>\n",
       "      <th>2415</th>\n",
       "      <td>Jana Tumhare Pyar Mein</td>\n",
       "      <td>Mukesh</td>\n",
       "      <td>BollywoodDance</td>\n",
       "      <td>Sasural</td>\n",
       "      <td>6.2</td>\n",
       "    </tr>\n",
       "    <tr>\n",
       "      <th>2416</th>\n",
       "      <td>Tum Jaise Bigde Babu Se</td>\n",
       "      <td>Lata Mangeshkar</td>\n",
       "      <td>BollywoodDance</td>\n",
       "      <td>Jab Pyar Kisi Se Hota Hai</td>\n",
       "      <td>7.2</td>\n",
       "    </tr>\n",
       "    <tr>\n",
       "      <th>2417</th>\n",
       "      <td>O Yaad Nahi Bhool Gaya</td>\n",
       "      <td>Lata Mangeshkar, Suresh Wadkar</td>\n",
       "      <td>BollywoodDance</td>\n",
       "      <td>Lamhe</td>\n",
       "      <td>7.5</td>\n",
       "    </tr>\n",
       "    <tr>\n",
       "      <th>2418</th>\n",
       "      <td>Ladi Re Ladi Tujhse Aankh Jo Ladi</td>\n",
       "      <td>Jagjit Kaur</td>\n",
       "      <td>BollywoodDance</td>\n",
       "      <td>Shola Aur Shabnam</td>\n",
       "      <td>6.5</td>\n",
       "    </tr>\n",
       "    <tr>\n",
       "      <th>2419</th>\n",
       "      <td>Mummy Aur Daddy Mein Ladai Ho Gayi</td>\n",
       "      <td>Asha Bhosle</td>\n",
       "      <td>BollywoodDance</td>\n",
       "      <td>Shola Aur Shabnam</td>\n",
       "      <td>6.6</td>\n",
       "    </tr>\n",
       "  </tbody>\n",
       "</table>\n",
       "</div>"
      ],
      "text/plain": [
       "                               Song-Name                  Singer/Artists  \\\n",
       "2415              Jana Tumhare Pyar Mein                          Mukesh   \n",
       "2416             Tum Jaise Bigde Babu Se                 Lata Mangeshkar   \n",
       "2417              O Yaad Nahi Bhool Gaya  Lata Mangeshkar, Suresh Wadkar   \n",
       "2418   Ladi Re Ladi Tujhse Aankh Jo Ladi                     Jagjit Kaur   \n",
       "2419  Mummy Aur Daddy Mein Ladai Ho Gayi                     Asha Bhosle   \n",
       "\n",
       "               Genre                Album/Movie User-Rating  \n",
       "2415  BollywoodDance                    Sasural         6.2  \n",
       "2416  BollywoodDance  Jab Pyar Kisi Se Hota Hai         7.2  \n",
       "2417  BollywoodDance                      Lamhe         7.5  \n",
       "2418  BollywoodDance          Shola Aur Shabnam         6.5  \n",
       "2419  BollywoodDance          Shola Aur Shabnam         6.6  "
      ]
     },
     "execution_count": 10,
     "metadata": {},
     "output_type": "execute_result"
    }
   ],
   "source": [
    "data.tail(5)"
   ]
  },
  {
   "cell_type": "code",
   "execution_count": 11,
   "metadata": {},
   "outputs": [],
   "source": [
    "data['Album/Movie'] = data['Album/Movie'].str.replace(\" \",\"\")\n",
    "data['Singer/Artists'] = data['Singer/Artists'].str.replace(\" \", \"\")\n"
   ]
  },
  {
   "cell_type": "code",
   "execution_count": 12,
   "metadata": {},
   "outputs": [
    {
     "data": {
      "text/html": [
       "<div>\n",
       "<style scoped>\n",
       "    .dataframe tbody tr th:only-of-type {\n",
       "        vertical-align: middle;\n",
       "    }\n",
       "\n",
       "    .dataframe tbody tr th {\n",
       "        vertical-align: top;\n",
       "    }\n",
       "\n",
       "    .dataframe thead th {\n",
       "        text-align: right;\n",
       "    }\n",
       "</style>\n",
       "<table border=\"1\" class=\"dataframe\">\n",
       "  <thead>\n",
       "    <tr style=\"text-align: right;\">\n",
       "      <th></th>\n",
       "      <th>Song-Name</th>\n",
       "      <th>Singer/Artists</th>\n",
       "      <th>Genre</th>\n",
       "      <th>Album/Movie</th>\n",
       "      <th>User-Rating</th>\n",
       "    </tr>\n",
       "  </thead>\n",
       "  <tbody>\n",
       "    <tr>\n",
       "      <th>0</th>\n",
       "      <td>Aankh Marey</td>\n",
       "      <td>KumarSanu,MikaSingh,NehaKakkar</td>\n",
       "      <td>BollywoodDance</td>\n",
       "      <td>Simmba</td>\n",
       "      <td>8.8</td>\n",
       "    </tr>\n",
       "    <tr>\n",
       "      <th>1</th>\n",
       "      <td>Coca Cola</td>\n",
       "      <td>NehaKakkar,TonyKakkar</td>\n",
       "      <td>BollywoodDanceRomantic</td>\n",
       "      <td>LukaChuppi</td>\n",
       "      <td>9.0</td>\n",
       "    </tr>\n",
       "    <tr>\n",
       "      <th>2</th>\n",
       "      <td>Apna Time Aayega</td>\n",
       "      <td>RanveerSingh</td>\n",
       "      <td>BollywoodDance</td>\n",
       "      <td>GullyBoy</td>\n",
       "      <td>9.7</td>\n",
       "    </tr>\n",
       "    <tr>\n",
       "      <th>3</th>\n",
       "      <td>Mungda</td>\n",
       "      <td>JyoticaTangri,Shaan,SubhroGanguly</td>\n",
       "      <td>BollywoodDance</td>\n",
       "      <td>TotalDhamaal</td>\n",
       "      <td>9.1</td>\n",
       "    </tr>\n",
       "    <tr>\n",
       "      <th>4</th>\n",
       "      <td>Tere Bin</td>\n",
       "      <td>AseesKaur,RahatFatehAliKhan,TanishkBagchi</td>\n",
       "      <td>BollywoodRomantic</td>\n",
       "      <td>Simmba</td>\n",
       "      <td>9.2</td>\n",
       "    </tr>\n",
       "  </tbody>\n",
       "</table>\n",
       "</div>"
      ],
      "text/plain": [
       "          Song-Name                             Singer/Artists  \\\n",
       "0       Aankh Marey             KumarSanu,MikaSingh,NehaKakkar   \n",
       "1         Coca Cola                      NehaKakkar,TonyKakkar   \n",
       "2  Apna Time Aayega                               RanveerSingh   \n",
       "3            Mungda          JyoticaTangri,Shaan,SubhroGanguly   \n",
       "4          Tere Bin  AseesKaur,RahatFatehAliKhan,TanishkBagchi   \n",
       "\n",
       "                    Genre   Album/Movie User-Rating  \n",
       "0          BollywoodDance        Simmba         8.8  \n",
       "1  BollywoodDanceRomantic    LukaChuppi         9.0  \n",
       "2          BollywoodDance      GullyBoy         9.7  \n",
       "3          BollywoodDance  TotalDhamaal         9.1  \n",
       "4       BollywoodRomantic        Simmba         9.2  "
      ]
     },
     "execution_count": 12,
     "metadata": {},
     "output_type": "execute_result"
    }
   ],
   "source": [
    "data.head(5)"
   ]
  },
  {
   "cell_type": "code",
   "execution_count": 13,
   "metadata": {},
   "outputs": [],
   "source": [
    "data['tags'] = data['Singer/Artists']+' '+ data['Genre']+ ' '+data['Album/Movie']+ data['User-Rating']"
   ]
  },
  {
   "cell_type": "code",
   "execution_count": 14,
   "metadata": {},
   "outputs": [
    {
     "data": {
      "text/html": [
       "<div>\n",
       "<style scoped>\n",
       "    .dataframe tbody tr th:only-of-type {\n",
       "        vertical-align: middle;\n",
       "    }\n",
       "\n",
       "    .dataframe tbody tr th {\n",
       "        vertical-align: top;\n",
       "    }\n",
       "\n",
       "    .dataframe thead th {\n",
       "        text-align: right;\n",
       "    }\n",
       "</style>\n",
       "<table border=\"1\" class=\"dataframe\">\n",
       "  <thead>\n",
       "    <tr style=\"text-align: right;\">\n",
       "      <th></th>\n",
       "      <th>Song-Name</th>\n",
       "      <th>tags</th>\n",
       "    </tr>\n",
       "  </thead>\n",
       "  <tbody>\n",
       "    <tr>\n",
       "      <th>0</th>\n",
       "      <td>Aankh Marey</td>\n",
       "      <td>KumarSanu,MikaSingh,NehaKakkar BollywoodDance ...</td>\n",
       "    </tr>\n",
       "    <tr>\n",
       "      <th>1</th>\n",
       "      <td>Coca Cola</td>\n",
       "      <td>NehaKakkar,TonyKakkar BollywoodDanceRomantic L...</td>\n",
       "    </tr>\n",
       "    <tr>\n",
       "      <th>2</th>\n",
       "      <td>Apna Time Aayega</td>\n",
       "      <td>RanveerSingh BollywoodDance GullyBoy9.7</td>\n",
       "    </tr>\n",
       "    <tr>\n",
       "      <th>3</th>\n",
       "      <td>Mungda</td>\n",
       "      <td>JyoticaTangri,Shaan,SubhroGanguly BollywoodDan...</td>\n",
       "    </tr>\n",
       "    <tr>\n",
       "      <th>4</th>\n",
       "      <td>Tere Bin</td>\n",
       "      <td>AseesKaur,RahatFatehAliKhan,TanishkBagchi Boll...</td>\n",
       "    </tr>\n",
       "  </tbody>\n",
       "</table>\n",
       "</div>"
      ],
      "text/plain": [
       "          Song-Name                                               tags\n",
       "0       Aankh Marey  KumarSanu,MikaSingh,NehaKakkar BollywoodDance ...\n",
       "1         Coca Cola  NehaKakkar,TonyKakkar BollywoodDanceRomantic L...\n",
       "2  Apna Time Aayega            RanveerSingh BollywoodDance GullyBoy9.7\n",
       "3            Mungda  JyoticaTangri,Shaan,SubhroGanguly BollywoodDan...\n",
       "4          Tere Bin  AseesKaur,RahatFatehAliKhan,TanishkBagchi Boll..."
      ]
     },
     "execution_count": 14,
     "metadata": {},
     "output_type": "execute_result"
    }
   ],
   "source": [
    "df = data[['Song-Name','tags']]\n",
    "df.head(5)"
   ]
  },
  {
   "cell_type": "code",
   "execution_count": 15,
   "metadata": {},
   "outputs": [],
   "source": [
    "df['tags'] = df['tags'].apply(lambda x:x.lower())"
   ]
  },
  {
   "cell_type": "markdown",
   "metadata": {},
   "source": [
    "Changing 'tags' into vectors"
   ]
  },
  {
   "cell_type": "code",
   "execution_count": 16,
   "metadata": {},
   "outputs": [
    {
     "data": {
      "text/plain": [
       "(2391, 1956)"
      ]
     },
     "execution_count": 16,
     "metadata": {},
     "output_type": "execute_result"
    }
   ],
   "source": [
    "from sklearn.feature_extraction.text import CountVectorizer\n",
    "cv = CountVectorizer(max_features=2000)\n",
    "\n",
    "vectors = cv.fit_transform(df['tags']).toarray()\n",
    "vectors.shape\n"
   ]
  },
  {
   "cell_type": "markdown",
   "metadata": {},
   "source": [
    "Finding similarities"
   ]
  },
  {
   "cell_type": "code",
   "execution_count": 17,
   "metadata": {},
   "outputs": [],
   "source": [
    "from sklearn.metrics.pairwise import cosine_similarity\n",
    "similarity = cosine_similarity(vectors)\n",
    "#similarity[0][0]"
   ]
  },
  {
   "cell_type": "code",
   "execution_count": 18,
   "metadata": {},
   "outputs": [],
   "source": [
    "df.rename(columns={'Song-Name': 'title'},inplace=True)"
   ]
  },
  {
   "cell_type": "markdown",
   "metadata": {},
   "source": [
    "Recommendation function "
   ]
  },
  {
   "cell_type": "code",
   "execution_count": 19,
   "metadata": {},
   "outputs": [],
   "source": [
    "def recommend(music):\n",
    "    music_index = df[df['title']==music].index[0]\n",
    "    distance = similarity[music_index]\n",
    "    music_list = sorted(list(enumerate(distance)),reverse=True,key=lambda x:x[1])[1:6]\n",
    "    for i in music_list:\n",
    "        print(df.iloc[i[0]].title)\n",
    "    "
   ]
  },
  {
   "cell_type": "code",
   "execution_count": 20,
   "metadata": {},
   "outputs": [
    {
     "name": "stdout",
     "output_type": "stream",
     "text": [
      "Mere Gully Mein\n",
      "Doori\n",
      "Dilnashin Dilnashin\n",
      "Hai Junoon\n",
      "Ladka Yeh Kehta Hai\n"
     ]
    }
   ],
   "source": [
    "recommend('Apna Time Aayega')"
   ]
  },
  {
   "cell_type": "markdown",
   "metadata": {},
   "source": [
    "Saving the model"
   ]
  },
  {
   "cell_type": "code",
   "execution_count": 21,
   "metadata": {},
   "outputs": [],
   "source": [
    "import pickle\n",
    "pickle.dump(df,open('music.pkl','wb'))\n",
    "pickle.dump(similarity,open('similarity.pkl','wb'))\n"
   ]
  }
 ],
 "metadata": {
  "kernelspec": {
   "display_name": "base",
   "language": "python",
   "name": "python3"
  },
  "language_info": {
   "codemirror_mode": {
    "name": "ipython",
    "version": 3
   },
   "file_extension": ".py",
   "mimetype": "text/x-python",
   "name": "python",
   "nbconvert_exporter": "python",
   "pygments_lexer": "ipython3",
   "version": "3.11.5"
  }
 },
 "nbformat": 4,
 "nbformat_minor": 2
}
